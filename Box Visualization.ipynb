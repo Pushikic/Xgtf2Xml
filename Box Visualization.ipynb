{
 "cells": [
  {
   "cell_type": "code",
   "execution_count": 8,
   "metadata": {
    "collapsed": false
   },
   "outputs": [],
   "source": [
    "import numpy as np\n",
    "import cv2\n",
    "import os\n",
    "import matplotlib.pyplot as plt\n",
    "import xml.etree.ElementTree as ET\n",
    "from IPython.display import display,Image\n",
    "\n",
    "xml_annotation_path = 'xml_annotation/'\n",
    "\n",
    "\n",
    "        #print os.path.join(root,file_name)"
   ]
  },
  {
   "cell_type": "code",
   "execution_count": 2,
   "metadata": {
    "collapsed": true
   },
   "outputs": [],
   "source": [
    "filelist=[]\n",
    "\n",
    "for root,subdir,dirs in os.walk(xml_annotation_path):\n",
    "    for file_name in dirs:\n",
    "        filelist.append(os.path.join(root,file_name))"
   ]
  },
  {
   "cell_type": "code",
   "execution_count": 3,
   "metadata": {
    "collapsed": true
   },
   "outputs": [],
   "source": [
    "def parse_rec(filename):\n",
    "    \"\"\" Parse a xml file \"\"\"\n",
    "    tree = ET.parse(filename)\n",
    "    objects = []\n",
    "    for obj in tree.findall('object'):\n",
    "        obj_struct = {}\n",
    "        obj_struct['name'] = obj.find('name').text\n",
    "        obj_struct['pose'] = obj.find('pose').text\n",
    "        obj_struct['truncated'] = int(obj.find('truncated').text)\n",
    "        obj_struct['difficult'] = int(obj.find('difficult').text)\n",
    "        obj_struct['action'] = int(obj.find('action').text)\n",
    "        bbox = obj.find('bndbox')\n",
    "        obj_struct['bbox'] = [int(bbox.find('xmin').text),\n",
    "                              int(bbox.find('ymin').text),\n",
    "                              int(bbox.find('xmax').text),\n",
    "                              int(bbox.find('ymax').text)]\n",
    "        objects.append(obj_struct)\n",
    "\n",
    "    return objects\n"
   ]
  },
  {
   "cell_type": "code",
   "execution_count": 11,
   "metadata": {
    "collapsed": false
   },
   "outputs": [
    {
     "name": "stdout",
     "output_type": "stream",
     "text": [
      "xml_annotation/Basketball/v_Basketball_g01_c01/10.xml\n",
      "images/Basketball/v_Basketball_g01_c01/010.jpg\n"
     ]
    },
    {
     "data": {
      "image/jpeg": "[encoded data removed]",
      "text/plain": [
       "<IPython.core.display.Image object>"
      ]
     },
     "metadata": {},
     "output_type": "display_data"
    },
    {
     "name": "stdout",
     "output_type": "stream",
     "text": [
      "[{'name': ' Basketball ', 'truncated': 0, 'pose': 'Unspecified', 'bbox': [32, 94, 93, 189], 'action': 0, 'difficult': 0}, {'name': ' Basketball ', 'truncated': 0, 'pose': 'Unspecified', 'bbox': [176, 86, 245, 196], 'action': 1, 'difficult': 0}]\n"
     ]
    }
   ],
   "source": [
    "file_name = filelist[1]\n",
    "print file_name\n",
    "\n",
    "img_path = \"images/\"+file_name.split('/')[1]+\"/\"+file_name.split('/')[2]+\"/%03d\"%(int(file_name.split('/')[3].split('.')[0]))+\".jpg\"\n",
    "print img_path\n",
    "\n",
    "\n",
    "display(Image(filename=img_path))\n",
    "\n",
    "tree = ET.parse(file_name)\n",
    "root = tree.getroot()\n",
    "\n",
    "a = parse_rec(file_name)\n",
    "\n",
    "print a\n",
    "\n",
    "\n",
    "\n",
    "#for child in root.iter():\n",
    "#    print child.tag,child.attrib"
   ]
  },
  {
   "cell_type": "code",
   "execution_count": null,
   "metadata": {
    "collapsed": true
   },
   "outputs": [],
   "source": [
    "colors = plt.cm.hsv(np.linspace(0, 1, 24)).tolist()\n"
   ]
  },
  {
   "cell_type": "code",
   "execution_count": null,
   "metadata": {
    "collapsed": true
   },
   "outputs": [],
   "source": []
  }
 ],
 "metadata": {
  "kernelspec": {
   "display_name": "Python 2",
   "language": "python",
   "name": "python2"
  },
  "language_info": {
   "codemirror_mode": {
    "name": "ipython",
    "version": 2
   },
   "file_extension": ".py",
   "mimetype": "text/x-python",
   "name": "python",
   "nbconvert_exporter": "python",
   "pygments_lexer": "ipython2",
   "version": "2.7.12"
  }
 },
 "nbformat": 4,
 "nbformat_minor": 2
}
